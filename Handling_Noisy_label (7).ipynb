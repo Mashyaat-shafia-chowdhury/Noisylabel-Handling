{
  "cells": [
    {
      "cell_type": "markdown",
      "source": [
        "# **Dataset  CIFAR-10**"
      ],
      "metadata": {
        "id": "u1MJeqeG1j5i"
      }
    },
    {
      "cell_type": "code",
      "execution_count": null,
      "metadata": {
        "colab": {
          "base_uri": "https://localhost:8080/"
        },
        "id": "ln62drx8JiUS",
        "outputId": "e267b673-e3af-4952-fb69-b97245abe401"
      },
      "outputs": [
        {
          "name": "stdout",
          "output_type": "stream",
          "text": [
            "Downloading https://www.cs.toronto.edu/~kriz/cifar-10-python.tar.gz to ./data/cifar-10-python.tar.gz\n"
          ]
        },
        {
          "name": "stderr",
          "output_type": "stream",
          "text": [
            "100%|██████████| 170498071/170498071 [00:01<00:00, 98266641.18it/s] \n"
          ]
        },
        {
          "name": "stdout",
          "output_type": "stream",
          "text": [
            "Extracting ./data/cifar-10-python.tar.gz to ./data\n",
            "Files already downloaded and verified\n"
          ]
        }
      ],
      "source": [
        "import torchvision\n",
        "import torchvision.transforms as transforms\n",
        "\n",
        "data_dir = './data'\n",
        "\n",
        "\n",
        "transform = transforms.Compose([transforms.ToTensor(), transforms.Normalize((0.5, 0.5, 0.5), (0.5, 0.5, 0.5))])\n",
        "\n",
        "\n",
        "trainset = torchvision.datasets.CIFAR10(root=data_dir, train=True, transform=transform, download=True)\n",
        "testset = torchvision.datasets.CIFAR10(root=data_dir, train=False, transform=transform, download=True)\n",
        "\n",
        "\n"
      ]
    },
    {
      "cell_type": "code",
      "execution_count": null,
      "metadata": {
        "id": "GO1XLqpwJyF7"
      },
      "outputs": [],
      "source": [
        "import numpy as np\n",
        "\n",
        "noise_rate = 0.1\n",
        "\n",
        "for dataset in [trainset, testset]:\n",
        "    labels = dataset.targets\n",
        "    num_samples = len(labels)\n",
        "    num_corrupted_samples = int(noise_rate * num_samples)\n",
        "    corrupted_indices = np.random.choice(num_samples, num_corrupted_samples, replace=False)\n",
        "\n",
        "    for i in corrupted_indices:\n",
        "        new_label = np.random.randint(0, 10)\n",
        "        while new_label == labels[i]:\n",
        "            new_label = np.random.randint(0, 10)\n",
        "        labels[i] = new_label\n"
      ]
    },
    {
      "cell_type": "code",
      "execution_count": null,
      "metadata": {
        "id": "PWaMBG5KJ1St"
      },
      "outputs": [],
      "source": [
        "import torch\n",
        "\n",
        "trainloader = torch.utils.data.DataLoader(trainset, batch_size=64, shuffle=True)\n",
        "testloader = torch.utils.data.DataLoader(testset, batch_size=64, shuffle=False)\n"
      ]
    },
    {
      "cell_type": "code",
      "execution_count": null,
      "metadata": {
        "colab": {
          "base_uri": "https://localhost:8080/"
        },
        "id": "4-vE2sQbJ5mi",
        "outputId": "cd6b111f-0ff4-4a58-ce1a-ee582160fdac"
      },
      "outputs": [
        {
          "name": "stdout",
          "output_type": "stream",
          "text": [
            "Epoch 1, Loss: 2.2677363791429173\n",
            "Epoch 2, Loss: 2.0115373308396403\n",
            "Epoch 3, Loss: 1.826540326828237\n",
            "Epoch 4, Loss: 1.7166160270381157\n",
            "Epoch 5, Loss: 1.6496102915090674\n",
            "Epoch 6, Loss: 1.5975754350957359\n",
            "Epoch 7, Loss: 1.551042206756904\n",
            "Epoch 8, Loss: 1.5078179188396619\n",
            "Epoch 9, Loss: 1.4660121569853\n",
            "Epoch 10, Loss: 1.423891769345764\n",
            "Finished Training\n",
            "Accuracy on the test dataset: 53.07%\n"
          ]
        }
      ],
      "source": [
        "import torch\n",
        "import torch.nn as nn\n",
        "import torch.optim as optim\n",
        "import torchvision\n",
        "import torchvision.transforms as transforms\n",
        "from torch.utils.data import DataLoader\n",
        "\n",
        "class Net(nn.Module):\n",
        "    def __init__(self):\n",
        "        super(Net, self).__init__()  # Add parentheses here\n",
        "        self.conv1 = nn.Conv2d(3, 32, 3, padding=1)\n",
        "        self.conv2 = nn.Conv2d(32, 64, 3, padding=1)\n",
        "        self.conv3 = nn.Conv2d(64, 128, 3, padding=1)\n",
        "        self.pool = nn.MaxPool2d(2, 2)\n",
        "        self.fc1 = nn.Linear(128 * 4 * 4, 512)\n",
        "        self.fc2 = nn.Linear(512, 10)\n",
        "\n",
        "    def forward(self, x):\n",
        "        x = self.pool(nn.functional.relu(self.conv1(x)))\n",
        "        x = self.pool(nn.functional.relu(self.conv2(x)))\n",
        "        x = self.pool(nn.functional.relu(self.conv3(x)))\n",
        "        x = x.view(-1, 128 * 4 * 4)\n",
        "        x = nn.functional.relu(self.fc1(x))\n",
        "        x = self.fc2(x)\n",
        "        return x\n",
        "\n",
        "\n",
        "\n",
        "trainloader = DataLoader(trainset, batch_size=64, shuffle=True)\n",
        "testloader = DataLoader(testset, batch_size=64, shuffle=False)\n",
        "\n",
        "\n",
        "net = Net()\n",
        "\n",
        "\n",
        "criterion = nn.CrossEntropyLoss()\n",
        "optimizer = optim.SGD(net.parameters(), lr=0.001, momentum=0.9)\n",
        "\n",
        "# Training loop\n",
        "for epoch in range(10):\n",
        "    running_loss = 0.0\n",
        "    for i, data in enumerate(trainloader, 0):\n",
        "        inputs, labels = data\n",
        "        optimizer.zero_grad()\n",
        "        outputs = net(inputs)\n",
        "        loss = criterion(outputs, labels)\n",
        "        loss.backward()\n",
        "        optimizer.step()\n",
        "        running_loss += loss.item()\n",
        "\n",
        "    print(f\"Epoch {epoch + 1}, Loss: {running_loss / len(trainloader)}\")\n",
        "\n",
        "print(\"Finished Training\")\n",
        "\n",
        "\n",
        "correct = 0\n",
        "total = 0\n",
        "\n",
        "net.eval()\n",
        "\n",
        "with torch.no_grad():\n",
        "    for data in testloader:\n",
        "        inputs, labels = data\n",
        "        outputs = net(inputs)\n",
        "        _, predicted = torch.max(outputs.data, 1)\n",
        "        total += labels.size(0)\n",
        "        correct += (predicted == labels).sum().item()\n",
        "\n",
        "print(f\"Accuracy on the test dataset: {100 * correct / total:.2f}%\")\n"
      ]
    },
    {
      "cell_type": "code",
      "execution_count": null,
      "metadata": {
        "colab": {
          "base_uri": "https://localhost:8080/"
        },
        "id": "eiZR1FAVQxyo",
        "outputId": "9ba405dd-fd5f-4f84-f45e-0481f739852d"
      },
      "outputs": [
        {
          "name": "stdout",
          "output_type": "stream",
          "text": [
            "MentorNet Epoch 1, Loss: 1.809030694577395\n",
            "MentorNet Epoch 2, Loss: 1.3761804860723599\n",
            "MentorNet Epoch 3, Loss: 1.1473420988720702\n",
            "MentorNet Epoch 4, Loss: 0.9954938681229301\n",
            "MentorNet Epoch 5, Loss: 0.8869718002236407\n",
            "MentorNet Epoch 6, Loss: 0.8098273214019472\n",
            "MentorNet Epoch 7, Loss: 0.7583589325551792\n",
            "MentorNet Epoch 8, Loss: 0.7109962046679938\n",
            "MentorNet Epoch 9, Loss: 0.6715272122331898\n",
            "MentorNet Epoch 10, Loss: 0.6361835056253712\n",
            "Main Model Epoch 1, Loss: 2.9703412876104758\n",
            "Main Model Epoch 2, Loss: 2.107454141082666\n",
            "Main Model Epoch 3, Loss: 1.705667868447121\n",
            "Main Model Epoch 4, Loss: 1.4298439666133402\n",
            "Main Model Epoch 5, Loss: 1.2650479021889474\n",
            "Main Model Epoch 6, Loss: 1.159488080864977\n",
            "Main Model Epoch 7, Loss: 1.0832839410780641\n",
            "Main Model Epoch 8, Loss: 1.031936168746875\n",
            "Main Model Epoch 9, Loss: 0.9975734115256678\n",
            "Main Model Epoch 10, Loss: 0.9658245881042822\n",
            "Accuracy on the test dataset: 79.28%\n"
          ]
        }
      ],
      "source": [
        "import torch\n",
        "import torch.nn as nn\n",
        "import torch.optim as optim\n",
        "from torch.utils.data import DataLoader\n",
        "from torchvision import datasets, transforms\n",
        "import numpy as np\n",
        "train_loss_history = []\n",
        "test_accuracy_history = []\n",
        "\n",
        "class MentorNet(nn.Module):\n",
        "    def __init__(self):\n",
        "        super(MentorNet, self).__init__()\n",
        "        self.conv1 = nn.Conv2d(3, 32, 3, padding=1)\n",
        "        self.conv2 = nn.Conv2d(32, 64, 3, padding=1)\n",
        "        self.conv3 = nn.Conv2d(64, 128, 3, padding=1)\n",
        "        self.pool = nn.MaxPool2d(2, 2)\n",
        "        self.fc1 = nn.Linear(128 * 4 * 4, 512)\n",
        "        self.fc2 = nn.Linear(512, 10)\n",
        "\n",
        "    def forward(self, x):\n",
        "        x = self.pool(nn.functional.relu(self.conv1(x)))\n",
        "        x = self.pool(nn.functional.relu(self.conv2(x)))\n",
        "        x = self.pool(nn.functional.relu(self.conv3(x)))\n",
        "        x = x.view(-1, 128 * 4 * 4)\n",
        "        x = nn.functional.relu(self.fc1(x))\n",
        "        x = self.fc2(x)\n",
        "        return x\n",
        "\n",
        "\n",
        "\n",
        "mentornet = MentorNet()\n",
        "\n",
        "\n",
        "mentornet_criterion = nn.CrossEntropyLoss()\n",
        "\n",
        "\n",
        "mentornet_optimizer = optim.SGD(mentornet.parameters(), lr=0.01, momentum=0.9)\n",
        "\n",
        "\n",
        "mentornet.train()\n",
        "for epoch in range(10):\n",
        "    running_loss = 0.0\n",
        "    for i, data in enumerate(trainloader, 0):\n",
        "        inputs, labels = data\n",
        "        mentornet_optimizer.zero_grad()\n",
        "        outputs = mentornet(inputs)\n",
        "        loss = mentornet_criterion(outputs, labels)\n",
        "        loss.backward()\n",
        "        mentornet_optimizer.step()\n",
        "        running_loss += loss.item()\n",
        "    print(f\"MentorNet Epoch {epoch + 1}, Loss: {running_loss / len(trainloader)}\")\n",
        "\n",
        "\n",
        "mentornet.eval()\n",
        "for param in mentornet.parameters():\n",
        "    param.requires_grad = False\n",
        "\n",
        "\n",
        "class Net(nn.Module):\n",
        "    def __init__(self):\n",
        "        super(Net, self).__init__()\n",
        "        self.conv1 = nn.Conv2d(3, 32, 3, padding=1)\n",
        "        self.conv2 = nn.Conv2d(32, 64, 3, padding=1)\n",
        "        self.conv3 = nn.Conv2d(64, 128, 3, padding=1)\n",
        "        self.pool = nn.MaxPool2d(2, 2)\n",
        "        self.fc1 = nn.Linear(128 * 4 * 4, 512)\n",
        "        self.fc2 = nn.Linear(512, 10)\n",
        "\n",
        "    def forward(self, x):\n",
        "        x = self.pool(nn.functional.relu(self.conv1(x)))\n",
        "        x = self.pool(nn.functional.relu(self.conv2(x)))\n",
        "        x = self.pool(nn.functional.relu(self.conv3(x)))\n",
        "        x = x.view(-1, 128 * 4 * 4)\n",
        "        x = nn.functional.relu(self.fc1(x))\n",
        "        x = self.fc2(x)\n",
        "        return x\n",
        "\n",
        "\n",
        "\n",
        "net = Net()\n",
        "\n",
        "\n",
        "criterion = nn.CrossEntropyLoss()\n",
        "\n",
        "\n",
        "optimizer = optim.SGD(net.parameters(), lr=0.01, momentum=0.9)\n",
        "\n",
        "\n",
        "for epoch in range(10):\n",
        "    net.train()\n",
        "    running_loss = 0.0\n",
        "    for i, data in enumerate(trainloader, 0):\n",
        "        inputs, labels = data\n",
        "        optimizer.zero_grad()\n",
        "        outputs = net(inputs)\n",
        "\n",
        "\n",
        "        with torch.no_grad():\n",
        "            mentor_outputs = mentornet(inputs)\n",
        "            regularizer_loss = nn.functional.kl_div(nn.functional.log_softmax(outputs, dim=1),\n",
        "                                                    nn.functional.softmax(mentor_outputs, dim=1), reduction='batchmean')\n",
        "\n",
        "        loss = criterion(outputs, labels) + regularizer_loss\n",
        "        loss.backward()\n",
        "        optimizer.step()\n",
        "        running_loss += loss.item()\n",
        "        train_loss = running_loss / len(trainloader)\n",
        "        train_loss_history.append(train_loss)\n",
        "    print(f\"Main Model Epoch {epoch + 1}, Loss: {running_loss / len(trainloader)}\")\n",
        "\n",
        "# Evaluate the main model\n",
        "net.eval()\n",
        "correct = 0\n",
        "total = 0\n",
        "with torch.no_grad():\n",
        "    for data in testloader:\n",
        "        inputs, labels = data\n",
        "        outputs = net(inputs)\n",
        "        _, predicted = torch.max(outputs, 1)\n",
        "        total += labels.size(0)\n",
        "        correct += (predicted == labels).sum().item()\n",
        "    test_accuracy = 100 * correct / total\n",
        "    test_accuracy_history.append(test_accuracy)\n",
        "print(f\"Accuracy on the test dataset: {100 * correct / total:.2f}%\")\n"
      ]
    },
    {
      "cell_type": "code",
      "execution_count": null,
      "metadata": {
        "colab": {
          "base_uri": "https://localhost:8080/",
          "height": 507
        },
        "id": "Hk-rsrhC43rW",
        "outputId": "349e39a9-eb19-40b8-a2cd-6939ccd2e1e2"
      },
      "outputs": [
        {
          "data": {
            "image/png": "[encoded data removed]",
            "text/plain": [
              "<Figure size 1000x500 with 2 Axes>"
            ]
          },
          "metadata": {},
          "output_type": "display_data"
        }
      ],
      "source": [
        "import matplotlib.pyplot as plt\n",
        "\n",
        "\n",
        "\n",
        "plt.figure(figsize=(10, 5))\n",
        "plt.subplot(1, 2, 1)\n",
        "plt.plot(train_loss_history)\n",
        "plt.title(\"Training Loss\")\n",
        "plt.xlabel(\"Epoch\")\n",
        "plt.ylabel(\"Loss\")\n",
        "\n",
        "plt.subplot(1, 2, 2)\n",
        "plt.plot(test_accuracy_history)\n",
        "plt.title(\"Test Accuracy\")\n",
        "plt.xlabel(\"Epoch\")\n",
        "plt.ylabel(\"Accuracy\")\n",
        "\n",
        "plt.tight_layout()\n",
        "plt.show()\n"
      ]
    },
    {
      "cell_type": "code",
      "execution_count": null,
      "metadata": {
        "colab": {
          "base_uri": "https://localhost:8080/"
        },
        "id": "bAq1ZWuh_OrJ",
        "outputId": "3824f596-9c24-4264-ca90-9dd1efc19a55"
      },
      "outputs": [
        {
          "name": "stderr",
          "output_type": "stream",
          "text": [
            "/content/tiny-imagenet-200/tiny-imagenet-200.zip: 100%|██████████| 237M/237M [00:21<00:00, 11.5MB/s]\n"
          ]
        },
        {
          "name": "stdout",
          "output_type": "stream",
          "text": [
            "Train Directory: /content/tiny-imagenet-200/tiny-imagenet-200/train\n",
            "Validation Directory: /content/tiny-imagenet-200/tiny-imagenet-200/val\n",
            "Test Directory: /content/tiny-imagenet-200/tiny-imagenet-200/test\n"
          ]
        }
      ],
      "source": [
        "import requests\n",
        "import os\n",
        "from tqdm import tqdm\n",
        "from zipfile import ZipFile\n",
        "import shutil\n",
        "\n",
        "\n",
        "data_dir = '/content/tiny-imagenet-200'\n",
        "\n",
        "\n",
        "dataset_url = \"http://cs231n.stanford.edu/tiny-imagenet-200.zip\"\n",
        "download_path = os.path.join(data_dir, \"tiny-imagenet-200.zip\")\n",
        "\n",
        "if not os.path.exists(data_dir):\n",
        "    os.makedirs(data_dir)\n",
        "\n",
        "if not os.path.exists(download_path):\n",
        "    response = requests.get(dataset_url, stream=True)\n",
        "    total_size = int(response.headers.get('content-length', 0))\n",
        "    block_size = 1024  # 1 KB\n",
        "\n",
        "    with open(download_path, 'wb') as file, tqdm(\n",
        "            desc=download_path,\n",
        "            total=total_size,\n",
        "            unit='B',\n",
        "            unit_scale=True,\n",
        "            unit_divisor=1024,\n",
        "    ) as bar:\n",
        "        for data in response.iter_content(block_size):\n",
        "            file.write(data)\n",
        "            bar.update(len(data))\n",
        "\n",
        "\n",
        "with ZipFile(download_path, 'r') as zip_ref:\n",
        "    zip_ref.extractall(data_dir)\n",
        "\n",
        "\n",
        "train_dir = os.path.join(data_dir, \"tiny-imagenet-200\", \"train\")\n",
        "val_dir = os.path.join(data_dir, \"tiny-imagenet-200\", \"val\")\n",
        "test_dir = os.path.join(data_dir, \"tiny-imagenet-200\", \"test\")\n",
        "\n",
        "\n",
        "print(f\"Train Directory: {train_dir}\")\n",
        "print(f\"Validation Directory: {val_dir}\")\n",
        "print(f\"Test Directory: {test_dir}\")\n"
      ]
    },
    {
      "cell_type": "markdown",
      "source": [
        "# **Dataset  Tiny-ImageNet**"
      ],
      "metadata": {
        "id": "cZkWdywZ2R8M"
      }
    },
    {
      "cell_type": "code",
      "execution_count": null,
      "metadata": {
        "id": "zGckCXFX_f2J"
      },
      "outputs": [],
      "source": [
        "import os\n",
        "import random\n",
        "\n",
        "train_dir = '/content/tiny-imagenet-200/tiny-imagenet-200/train'\n",
        "val_dir = '/content/tiny-imagenet-200/tiny-imagenet-200/val'\n",
        "\n",
        "noise_rate = 0.1\n",
        "\n",
        "\n",
        "def add_noisy_labels(dataset_dir, noise_rate):\n",
        "    class_dirs = [d for d in os.listdir(dataset_dir) if os.path.isdir(os.path.join(dataset_dir, d))]\n",
        "\n",
        "    noisy_to_original = {}\n",
        "\n",
        "    for class_name in class_dirs:\n",
        "        noisy_class = class_name\n",
        "        original_class = random.choice(class_dirs)\n",
        "        noisy_to_original[noisy_class] = original_class\n",
        "\n",
        "    for noisy_class, original_class in noisy_to_original.items():\n",
        "        noisy_class_path = os.path.join(dataset_dir, noisy_class)\n",
        "        original_class_path = os.path.join(dataset_dir, original_class)\n",
        "\n",
        "        if not os.path.exists(original_class_path):\n",
        "            os.mkdir(original_class_path)\n",
        "\n",
        "        image_files = os.listdir(noisy_class_path)\n",
        "        num_images = len(image_files)\n",
        "        num_noisy_labels = int(noise_rate * num_images)\n",
        "\n",
        "        noisy_indices = random.sample(image_files, num_noisy_labels)\n",
        "\n",
        "        for image_file in noisy_indices:\n",
        "            noisy_image_path = os.path.join(noisy_class_path, image_file)\n",
        "            original_image_path = os.path.join(original_class_path, image_file)\n",
        "            os.rename(noisy_image_path, original_image_path)\n",
        "\n",
        "\n",
        "add_noisy_labels(train_dir, noise_rate)\n",
        "\n",
        "\n",
        "add_noisy_labels(val_dir, noise_rate)\n"
      ]
    },
    {
      "cell_type": "code",
      "execution_count": null,
      "metadata": {
        "id": "qgYmpGV14IOu"
      },
      "outputs": [],
      "source": [
        "from torchvision import datasets, transforms\n",
        "\n",
        "\n",
        "transform = transforms.Compose([\n",
        "    transforms.ToTensor(),\n",
        "    transforms.Normalize((0.5, 0.5, 0.5), (0.5, 0.5, 0.5))\n",
        "])\n",
        "\n",
        "\n",
        "trainset = datasets.ImageFolder(root=train_dir, transform=transform)\n",
        "valset = datasets.ImageFolder(root=val_dir, transform=transform)\n",
        "testset = datasets.ImageFolder(root=test_dir, transform=transform)\n"
      ]
    },
    {
      "cell_type": "code",
      "execution_count": null,
      "metadata": {
        "colab": {
          "base_uri": "https://localhost:8080/"
        },
        "id": "L2PWA05UBe0W",
        "outputId": "014ddd35-5bc9-440e-93ac-2e25fb0e09df"
      },
      "outputs": [
        {
          "name": "stdout",
          "output_type": "stream",
          "text": [
            "Epoch 1, Loss: 4.429145595009938\n",
            "Epoch 2, Loss: 3.505362228788936\n",
            "Epoch 3, Loss: 2.520577501121882\n",
            "Epoch 4, Loss: 1.580799865440459\n",
            "Epoch 5, Loss: 0.9909217026625698\n",
            "Epoch 6, Loss: 0.6454692498059206\n",
            "Epoch 7, Loss: 0.441671110565702\n",
            "Epoch 8, Loss: 0.32927558205959817\n",
            "Epoch 9, Loss: 0.23287915366434242\n",
            "Epoch 10, Loss: 0.161956823362432\n",
            "Accuracy on the test dataset: 0.34%\n"
          ]
        }
      ],
      "source": [
        "import torch\n",
        "import torch.nn as nn\n",
        "import torch.optim as optim\n",
        "from torch.utils.data import DataLoader\n",
        "import torchvision\n",
        "import torchvision.transforms as transforms\n",
        "import numpy as np\n",
        "\n",
        "\n",
        "num_classes = 200\n",
        "\n",
        "# Define a simple CNN model\n",
        "class CNNModel(nn.Module):\n",
        "    def __init__(self):\n",
        "        super(CNNModel, self).__init__()\n",
        "        self.conv1 = nn.Conv2d(3, 32, kernel_size=3, padding=1)\n",
        "        self.pool = nn.MaxPool2d(kernel_size=2, stride=2)\n",
        "        self.fc1 = nn.Linear(32 * 32 * 32, num_classes)\n",
        "\n",
        "    def forward(self, x):\n",
        "        x = self.pool(torch.relu(self.conv1(x)))\n",
        "        x = x.view(-1, 32 * 32 * 32)\n",
        "        x = self.fc1(x)\n",
        "        return x\n",
        "\n",
        "\n",
        "transform = transforms.Compose([transforms.ToTensor(), transforms.Normalize((0.5, 0.5, 0.5), (0.5, 0.5, 0.5))])\n",
        "\n",
        "trainset = torchvision.datasets.ImageFolder(root=train_dir, transform=transform)\n",
        "train_loader = DataLoader(trainset, batch_size=64, shuffle=True)\n",
        "\n",
        "model = CNNModel()\n",
        "criterion = nn.CrossEntropyLoss()\n",
        "optimizer = optim.SGD(model.parameters(), lr=0.01, momentum=0.9)\n",
        "\n",
        "# Training loop\n",
        "model.train()\n",
        "for epoch in range(10):\n",
        "    running_loss = 0.0\n",
        "    for i, data in enumerate(train_loader, 0):\n",
        "        inputs, labels = data\n",
        "        optimizer.zero_grad()\n",
        "        outputs = model(inputs)\n",
        "        loss = criterion(outputs, labels)\n",
        "        loss.backward()\n",
        "        optimizer.step()\n",
        "        running_loss += loss.item()\n",
        "    print(f\"Epoch {epoch + 1}, Loss: {running_loss / len(train_loader)}\")\n",
        "\n",
        "\n",
        "model.eval()\n",
        "correct = 0\n",
        "total = 0\n",
        "with torch.no_grad():\n",
        "    for data in test_loader:\n",
        "        inputs, labels = data\n",
        "        outputs = model(inputs)\n",
        "        _, predicted = torch.max(outputs, 1)\n",
        "        total += labels.size(0)\n",
        "        correct += (predicted == labels).sum().item()\n",
        "\n",
        "print(f\"Accuracy on the test dataset: {100 * correct / total:.2f}%\")\n"
      ]
    },
    {
      "cell_type": "code",
      "execution_count": null,
      "metadata": {
        "colab": {
          "background_save": true,
          "base_uri": "https://localhost:8080/"
        },
        "id": "6vt6VEC5MIpk",
        "outputId": "1a97b08b-0562-492f-b130-e77bda888cad"
      },
      "outputs": [
        {
          "name": "stdout",
          "output_type": "stream",
          "text": [
            "MentorNet Epoch 1, Loss: 4.612491848982837\n",
            "MentorNet Epoch 2, Loss: 3.733918127003802\n",
            "MentorNet Epoch 3, Loss: 3.2638310690530203\n",
            "MentorNet Epoch 4, Loss: 2.7759270565828604\n",
            "MentorNet Epoch 5, Loss: 2.1512957061626024\n",
            "MentorNet Epoch 6, Loss: 1.36022331206675\n",
            "MentorNet Epoch 7, Loss: 0.6691438201064112\n",
            "MentorNet Epoch 8, Loss: 0.3547170425187832\n",
            "MentorNet Epoch 9, Loss: 0.22811140185573583\n",
            "MentorNet Epoch 10, Loss: 0.17693116998994723\n",
            "Main Model Epoch 1, Loss: 8.69943105663463\n",
            "Main Model Epoch 2, Loss: 7.093697182428967\n",
            "Main Model Epoch 3, Loss: 6.006301806969133\n",
            "Main Model Epoch 4, Loss: 4.62298497448956\n",
            "Main Model Epoch 5, Loss: 2.8116793157348097\n",
            "Main Model Epoch 6, Loss: 1.3853297546477328\n",
            "Main Model Epoch 7, Loss: 0.7228675152122097\n",
            "Main Model Epoch 8, Loss: 0.42405130931069585\n",
            "Main Model Epoch 9, Loss: 0.30047376310394425\n",
            "Main Model Epoch 10, Loss: 0.24344127456957304\n",
            "Main Model Test Accuracy: 0.44%\n"
          ]
        }
      ],
      "source": [
        "import torch\n",
        "import torch.nn as nn\n",
        "import torch.optim as optim\n",
        "from torch.utils.data import DataLoader\n",
        "from torchvision import datasets, transforms\n",
        "from torch.nn.functional import softmax, log_softmax, kl_div\n",
        "\n",
        "\n",
        "\n",
        "trainloader = DataLoader(trainset, batch_size=64, shuffle=True)\n",
        "valloader = DataLoader(valset, batch_size=64, shuffle=False)\n",
        "testloader = DataLoader(testset, batch_size=64, shuffle=False)\n",
        "\n",
        "\n",
        "class SimpleCNN(nn.Module):\n",
        "    def __init__(self):\n",
        "        super(SimpleCNN, self).__init__()\n",
        "        self.conv1 = nn.Conv2d(3, 32, 3, padding=1)\n",
        "        self.conv2 = nn.Conv2d(32, 64, 3, padding=1)\n",
        "        self.pool = nn.MaxPool2d(2, 2)\n",
        "        self.fc1 = nn.Linear(64 * 16 * 16, 512)\n",
        "        self.fc2 = nn.Linear(512, 200)  # 200 classes in TinyImageNet\n",
        "\n",
        "    def forward(self, x):\n",
        "        x = self.pool(torch.relu(self.conv1(x)))\n",
        "        x = self.pool(torch.relu(self.conv2(x)))\n",
        "        x = x.view(-1, 64 * 16 * 16)\n",
        "        x = torch.relu(self.fc1(x))\n",
        "        x = self.fc2(x)\n",
        "        return x\n",
        "\n",
        "mentornet = SimpleCNN()\n",
        "\n",
        "\n",
        "mentornet_criterion = nn.CrossEntropyLoss()\n",
        "\n",
        "\n",
        "mentornet_optimizer = optim.SGD(mentornet.parameters(), lr=0.01, momentum=0.9)\n",
        "\n",
        "mentornet.train()\n",
        "for epoch in range(10):\n",
        "    running_loss = 0.0\n",
        "    for i, data in enumerate(trainloader, 0):\n",
        "        inputs, labels = data\n",
        "        mentornet_optimizer.zero_grad()\n",
        "        outputs = mentornet(inputs)\n",
        "        loss = mentornet_criterion(outputs, labels)\n",
        "        loss.backward()\n",
        "        mentornet_optimizer.step()\n",
        "        running_loss += loss.item()\n",
        "    print(f\"MentorNet Epoch {epoch + 1}, Loss: {running_loss / len(trainloader)}\")\n",
        "\n",
        "\n",
        "mentornet.eval()\n",
        "main_model = SimpleCNN()\n",
        "\n",
        "main_model_criterion = nn.CrossEntropyLoss()\n",
        "\n",
        "\n",
        "main_model_optimizer = optim.SGD(main_model.parameters(), lr=0.01, momentum=0.9)\n",
        "\n",
        "main_model.train()\n",
        "for epoch in range(10):\n",
        "    running_loss = 0.0\n",
        "    for i, data in enumerate(trainloader, 0):\n",
        "        inputs, labels = data\n",
        "        main_model_optimizer.zero_grad()\n",
        "        main_outputs = main_model(inputs)\n",
        "\n",
        "\n",
        "        with torch.no_grad():\n",
        "            mentor_outputs = mentornet(inputs)\n",
        "            pseudo_labels = torch.argmax(mentor_outputs, dim=1)\n",
        "\n",
        "\n",
        "        regularizer_loss = kl_div(log_softmax(main_outputs, dim=1), softmax(mentor_outputs, dim=1), reduction='batchmean')\n",
        "\n",
        "        loss = main_model_criterion(main_outputs, pseudo_labels) + regularizer_loss\n",
        "        loss.backward()\n",
        "        main_model_optimizer.step()\n",
        "        running_loss += loss.item()\n",
        "    print(f\"Main Model Epoch {epoch + 1}, Loss: {running_loss / len(trainloader)}\")\n",
        "\n",
        "# Evaluate the main model\n",
        "main_model.eval()\n",
        "correct = 0\n",
        "total = 0\n",
        "with torch.no_grad():\n",
        "    for data in testloader:\n",
        "        inputs, labels = data\n",
        "        outputs = main_model(inputs)\n",
        "        _, predicted = torch.max(outputs, 1)\n",
        "        total += labels.size(0)\n",
        "        correct += (predicted == labels).sum().item()\n",
        "    test_accuracy = 100 * correct / total\n",
        "    print(f\"Main Model Test Accuracy: {test_accuracy:.2f}%\")\n"
      ]
    },
    {
      "cell_type": "markdown",
      "source": [
        "# **Dataset  CIFAR-100**"
      ],
      "metadata": {
        "id": "VSRxm2wx2cnU"
      }
    },
    {
      "cell_type": "code",
      "source": [
        "import torchvision\n",
        "import torchvision.transforms as transforms\n",
        "\n",
        "#  the data directory\n",
        "data_dir = './data'\n",
        "\n",
        "\n",
        "transform = transforms.Compose([transforms.ToTensor(), transforms.Normalize((0.5, 0.5, 0.5), (0.5, 0.5, 0.5))])\n",
        "\n",
        "# the CIFAR-100 dataset if it doesn't exist\n",
        "trainset = torchvision.datasets.CIFAR100(root=data_dir, train=True, transform=transform, download=True)\n",
        "testset = torchvision.datasets.CIFAR100(root=data_dir, train=False, transform=transform, download=True)\n",
        "\n",
        "\n"
      ],
      "metadata": {
        "colab": {
          "base_uri": "https://localhost:8080/"
        },
        "id": "BMhPbFzVDWKt",
        "outputId": "5844af1a-e8dc-4c64-9583-d800d34bd66a"
      },
      "execution_count": null,
      "outputs": [
        {
          "output_type": "stream",
          "name": "stdout",
          "text": [
            "Downloading https://www.cs.toronto.edu/~kriz/cifar-100-python.tar.gz to ./data/cifar-100-python.tar.gz\n"
          ]
        },
        {
          "output_type": "stream",
          "name": "stderr",
          "text": [
            "100%|██████████| 169001437/169001437 [00:02<00:00, 73455670.77it/s]\n"
          ]
        },
        {
          "output_type": "stream",
          "name": "stdout",
          "text": [
            "Extracting ./data/cifar-100-python.tar.gz to ./data\n",
            "Files already downloaded and verified\n"
          ]
        }
      ]
    },
    {
      "cell_type": "code",
      "source": [
        "import numpy as np\n",
        "\n",
        "noise_rate = 0.1\n",
        "\n",
        "for dataset in [trainset, testset]:\n",
        "    labels = dataset.targets\n",
        "    num_samples = len(labels)\n",
        "    num_corrupted_samples = int(noise_rate * num_samples)\n",
        "    corrupted_indices = np.random.choice(num_samples, num_corrupted_samples, replace=False)\n",
        "\n",
        "    for i in corrupted_indices:\n",
        "        new_label = np.random.randint(0, 100)  #  a random new label\n",
        "        while new_label == labels[i]:\n",
        "            new_label = np.random.randint(0, 100)\n",
        "        labels[i] = new_label\n"
      ],
      "metadata": {
        "id": "yjtcuNqsDcsb"
      },
      "execution_count": null,
      "outputs": []
    },
    {
      "cell_type": "code",
      "source": [
        "import torch\n",
        "\n",
        "trainloader = torch.utils.data.DataLoader(trainset, batch_size=64, shuffle=True)\n",
        "testloader = torch.utils.data.DataLoader(testset, batch_size=64, shuffle=False)"
      ],
      "metadata": {
        "id": "D70I5s9RDghO"
      },
      "execution_count": null,
      "outputs": []
    },
    {
      "cell_type": "code",
      "source": [
        "if torch.cuda.is_available():\n",
        "    device = 'cuda'\n",
        "else:\n",
        "    device = 'cpu'\n",
        "\n",
        "device"
      ],
      "metadata": {
        "colab": {
          "base_uri": "https://localhost:8080/",
          "height": 36
        },
        "id": "lEuHtlI5Dsjz",
        "outputId": "9f989dc8-eb10-4f64-d8bf-99095a6ce3c0"
      },
      "execution_count": null,
      "outputs": [
        {
          "output_type": "execute_result",
          "data": {
            "text/plain": [
              "'cpu'"
            ],
            "application/vnd.google.colaboratory.intrinsic+json": {
              "type": "string"
            }
          },
          "metadata": {},
          "execution_count": 4
        }
      ]
    },
    {
      "cell_type": "code",
      "source": [
        "import torch\n",
        "import torch.nn as nn\n",
        "import torch.optim as optim\n",
        "import torchvision\n",
        "import torchvision.transforms as transforms\n",
        "from torch.utils.data import DataLoader\n",
        "\n",
        "class Net(nn.Module):\n",
        "    def __init__(self):\n",
        "        super(Net, self).__init__()\n",
        "        self.conv1 = nn.Conv2d(3, 32, 3, padding=1)\n",
        "        self.conv2 = nn.Conv2d(32, 64, 3, padding=1)\n",
        "        self.conv3 = nn.Conv2d(64, 128, 3, padding=1)\n",
        "        self.pool = nn.MaxPool2d(2, 2)\n",
        "        self.fc1 = nn.Linear(128 * 4 * 4, 512)\n",
        "        self.fc2 = nn.Linear(512, 100)\n",
        "\n",
        "    def forward(self, x):\n",
        "        x = self.pool(nn.functional.relu(self.conv1(x)))\n",
        "        x = self.pool(nn.functional.relu(self.conv2(x)))\n",
        "        x = self.pool(nn.functional.relu(self.conv3(x)))\n",
        "        x = x.view(-1, 128 * 4 * 4)\n",
        "        x = nn.functional.relu(self.fc1(x))\n",
        "        x = self.fc2(x)\n",
        "        return x"
      ],
      "metadata": {
        "id": "h6Z2rgGsDt4c"
      },
      "execution_count": null,
      "outputs": []
    },
    {
      "cell_type": "code",
      "source": [
        "labels = torch.tensor(labels).to(device=device)"
      ],
      "metadata": {
        "id": "T9mrYXXoDxdY"
      },
      "execution_count": null,
      "outputs": []
    },
    {
      "cell_type": "code",
      "source": [
        "#  a data loader for training and testing\n",
        "trainloader = DataLoader(trainset, batch_size=64, shuffle=True)\n",
        "testloader = DataLoader(testset, batch_size=64, shuffle=False)\n",
        "trainloader.batch_size, trainloader.batch_sampler, trainloader.dataset\n"
      ],
      "metadata": {
        "colab": {
          "base_uri": "https://localhost:8080/"
        },
        "id": "U7ad6X5CD1MI",
        "outputId": "a43c2ed2-7280-46ac-b118-e38dfded24a5"
      },
      "execution_count": null,
      "outputs": [
        {
          "output_type": "execute_result",
          "data": {
            "text/plain": [
              "(64,\n",
              " <torch.utils.data.sampler.BatchSampler at 0x7b35d9fe0550>,\n",
              " Dataset CIFAR100\n",
              "     Number of datapoints: 50000\n",
              "     Root location: ./data\n",
              "     Split: Train\n",
              "     StandardTransform\n",
              " Transform: Compose(\n",
              "                ToTensor()\n",
              "                Normalize(mean=(0.5, 0.5, 0.5), std=(0.5, 0.5, 0.5))\n",
              "            ))"
            ]
          },
          "metadata": {},
          "execution_count": 7
        }
      ]
    },
    {
      "cell_type": "code",
      "source": [
        "import time\n",
        "# Instantiate the model\n",
        "net = Net().to(device='cpu')\n",
        "\n",
        "\n",
        "criterion = nn.CrossEntropyLoss()\n",
        "optimizer = optim.SGD(net.parameters(), lr=0.001, momentum=0.9)\n",
        "\n",
        "# Training loop\n",
        "print('Starting Training')\n",
        "for epoch in range(50):\n",
        "    running_loss = 0.0\n",
        "    start_time_for_one_epoch = time.time()\n",
        "    for i, data in enumerate(trainloader, 0):\n",
        "        inputs, labels = data\n",
        "        inputs = inputs.to(device)\n",
        "        labels = labels.to(device)\n",
        "        optimizer.zero_grad()\n",
        "        outputs = net(inputs).to(device)\n",
        "        loss = criterion(outputs, labels)\n",
        "        loss.backward()\n",
        "        optimizer.step()\n",
        "        running_loss += loss.item()\n",
        "        if i%5 == 0:\n",
        "            tmp = (i/780)*100\n",
        "            print(f'Status:{tmp:.3f}%',end='\\r')\n",
        "    end_time_for_one_epoch = time.time()\n",
        "    elapsed_time = end_time_for_one_epoch - start_time_for_one_epoch\n",
        "    print(f\"Epoch {epoch + 1}, Loss: {running_loss / len(trainloader)}, and Time Taken {elapsed_time}\")\n",
        "\n",
        "print(\"Finished Training\")"
      ],
      "metadata": {
        "colab": {
          "base_uri": "https://localhost:8080/"
        },
        "id": "nDRDvr06D7Ku",
        "outputId": "3d3a3fa4-4291-466f-bd14-1e4a541f516d"
      },
      "execution_count": null,
      "outputs": [
        {
          "output_type": "stream",
          "name": "stdout",
          "text": [
            "Starting Training\n",
            "Epoch 1, Loss: 4.6016925789815994, and Time Taken 148.82223296165466\n",
            "Epoch 2, Loss: 4.569537955476805, and Time Taken 137.7983317375183\n",
            "Epoch 3, Loss: 4.340230880490959, and Time Taken 135.29752349853516\n",
            "Epoch 4, Loss: 4.113423479182641, and Time Taken 136.37893724441528\n",
            "Epoch 5, Loss: 3.978248520580399, and Time Taken 137.108008146286\n",
            "Epoch 6, Loss: 3.858575509942096, and Time Taken 136.71646904945374\n",
            "Epoch 7, Loss: 3.7511785353541067, and Time Taken 137.659033536911\n",
            "Epoch 8, Loss: 3.6453512431410573, and Time Taken 136.49753642082214\n",
            "Epoch 9, Loss: 3.5499361265650795, and Time Taken 136.0011157989502\n",
            "Epoch 10, Loss: 3.4621514036222494, and Time Taken 137.16923260688782\n",
            "Epoch 11, Loss: 3.383190925468874, and Time Taken 137.01190638542175\n",
            "Epoch 12, Loss: 3.303810731834158, and Time Taken 136.19101905822754\n",
            "Epoch 13, Loss: 3.2259631538025255, and Time Taken 138.03310441970825\n",
            "Epoch 14, Loss: 3.155630347064084, and Time Taken 137.3212010860443\n",
            "Epoch 15, Loss: 3.077585083444405, and Time Taken 138.46733498573303\n",
            "Epoch 16, Loss: 3.009776348348164, and Time Taken 137.2771418094635\n",
            "Epoch 17, Loss: 2.933944913432421, and Time Taken 136.08373999595642\n",
            "Epoch 18, Loss: 2.8623210033187476, and Time Taken 137.9228847026825\n",
            "Epoch 19, Loss: 2.788435440843977, and Time Taken 136.81940698623657\n",
            "Epoch 20, Loss: 2.7176234212982684, and Time Taken 136.79913902282715\n",
            "Epoch 21, Loss: 2.6428811409894157, and Time Taken 138.20820569992065\n",
            "Epoch 22, Loss: 2.57114168384191, and Time Taken 136.55091404914856\n",
            "Epoch 23, Loss: 2.4899444795020704, and Time Taken 137.11846542358398\n",
            "Epoch 24, Loss: 2.4107341408119787, and Time Taken 136.98546290397644\n",
            "Epoch 25, Loss: 2.329727776672529, and Time Taken 136.49448490142822\n",
            "Epoch 26, Loss: 2.2493781691317056, and Time Taken 138.71581315994263\n",
            "Epoch 27, Loss: 2.157194310441956, and Time Taken 136.48029375076294\n",
            "Epoch 28, Loss: 2.0680204733558325, and Time Taken 136.26802515983582\n",
            "Epoch 29, Loss: 1.9749933819636665, and Time Taken 137.97025513648987\n",
            "Epoch 30, Loss: 1.878904454695904, and Time Taken 135.857501745224\n",
            "Epoch 31, Loss: 1.7699050410934116, and Time Taken 135.91877436637878\n",
            "Epoch 32, Loss: 1.6709188212976431, and Time Taken 137.60369753837585\n",
            "Epoch 33, Loss: 1.5674325506705458, and Time Taken 136.36455249786377\n",
            "Epoch 34, Loss: 1.4530368588312204, and Time Taken 136.00423169136047\n",
            "Epoch 35, Loss: 1.3370671078677068, and Time Taken 138.02553701400757\n",
            "Epoch 36, Loss: 1.2250234381774503, and Time Taken 136.73373675346375\n",
            "Epoch 37, Loss: 1.1146711612601414, and Time Taken 136.5473029613495\n",
            "Epoch 38, Loss: 1.0057049722927611, and Time Taken 137.67125797271729\n",
            "Epoch 39, Loss: 0.8915416404719243, and Time Taken 135.96542882919312\n",
            "Epoch 40, Loss: 0.7932595024861948, and Time Taken 136.1699571609497\n",
            "Epoch 41, Loss: 0.6929060835057818, and Time Taken 137.506769657135\n",
            "Epoch 42, Loss: 0.6030143185725907, and Time Taken 136.44806051254272\n",
            "Epoch 43, Loss: 0.5164622158726768, and Time Taken 137.18039464950562\n",
            "Epoch 44, Loss: 0.4512990097255658, and Time Taken 137.75897336006165\n",
            "Epoch 45, Loss: 0.3951156505233491, and Time Taken 136.75185990333557\n",
            "Epoch 46, Loss: 0.33004079481867876, and Time Taken 137.99661350250244\n",
            "Epoch 47, Loss: 0.2885467742314881, and Time Taken 136.97573685646057\n",
            "Epoch 48, Loss: 0.24381522897659513, and Time Taken 136.95686101913452\n",
            "Epoch 49, Loss: 0.22478548599802473, and Time Taken 138.0426950454712\n",
            "Epoch 50, Loss: 0.18070352435721765, and Time Taken 136.6480884552002\n",
            "Finished Training\n"
          ]
        }
      ]
    },
    {
      "cell_type": "code",
      "source": [
        "\n",
        "\n",
        "# Evaluation on the test dataset\n",
        "correct = 0\n",
        "total = 0\n",
        "\n",
        "net.eval()\n",
        "\n",
        "with torch.no_grad():\n",
        "    for data in testloader:\n",
        "        inputs, labels = data\n",
        "        inputs = inputs.to(device)\n",
        "        labels = labels.to(device)\n",
        "        outputs = net(inputs)\n",
        "        _, predicted = torch.max(outputs.data, 1)\n",
        "        total += labels.size(0)\n",
        "        correct += (predicted == labels).sum().item()\n",
        "\n",
        "print(f\"Accuracy on the test dataset: {100 * correct / total:.2f}%\")\n"
      ],
      "metadata": {
        "colab": {
          "base_uri": "https://localhost:8080/"
        },
        "id": "s22CtHMuEE4V",
        "outputId": "3d9caaa3-c7ea-4999-ffdc-cd822665582f"
      },
      "execution_count": null,
      "outputs": [
        {
          "output_type": "stream",
          "name": "stdout",
          "text": [
            "Accuracy on the test dataset: 27.70%\n"
          ]
        }
      ]
    },
    {
      "cell_type": "code",
      "source": [
        "import torch\n",
        "import torch.nn as nn\n",
        "import torch.optim as optim\n",
        "from torch.utils.data import DataLoader\n",
        "from torchvision import datasets, transforms\n",
        "import numpy as np\n",
        "train_loss_history = []\n",
        "test_accuracy_history = []\n",
        "\n",
        "class MentorNet(nn.Module):\n",
        "    def __init__(self):\n",
        "        super(MentorNet, self).__init__()\n",
        "        self.conv1 = nn.Conv2d(3, 32, 3, padding=1)\n",
        "        self.conv2 = nn.Conv2d(32, 64, 3, padding=1)\n",
        "        self.conv3 = nn.Conv2d(64, 128, 3, padding=1)\n",
        "        self.pool = nn.MaxPool2d(2, 2)\n",
        "        self.fc1 = nn.Linear(128 * 4 * 4, 512)\n",
        "        self.fc2 = nn.Linear(512, 100)\n",
        "\n",
        "    def forward(self, x):\n",
        "        x = self.pool(nn.functional.relu(self.conv1(x)))\n",
        "        x = self.pool(nn.functional.relu(self.conv2(x)))\n",
        "        x = self.pool(nn.functional.relu(self.conv3(x)))\n",
        "        x = x.view(-1, 128 * 4 * 4)\n",
        "        x = nn.functional.relu(self.fc1(x))\n",
        "        x = self.fc2(x)\n",
        "        return x\n",
        "\n",
        "\n",
        "\n",
        "mentornet = MentorNet()\n",
        "\n",
        "\n",
        "mentornet_criterion = nn.CrossEntropyLoss()\n",
        "\n",
        "mentornet_optimizer = optim.SGD(mentornet.parameters(), lr=0.01, momentum=0.9)\n",
        "\n",
        "\n",
        "mentornet.train()\n",
        "for epoch in range(10):  # Train MentorNet for a few epochs\n",
        "    running_loss = 0.0\n",
        "    for i, data in enumerate(trainloader, 0):\n",
        "        inputs, labels = data\n",
        "        mentornet_optimizer.zero_grad()\n",
        "        outputs = mentornet(inputs)\n",
        "        loss = mentornet_criterion(outputs, labels)\n",
        "        loss.backward()\n",
        "        mentornet_optimizer.step()\n",
        "        running_loss += loss.item()\n",
        "    print(f\"MentorNet Epoch {epoch + 1}, Loss: {running_loss / len(trainloader)}\")\n",
        "\n",
        "# the MentorNet for fine-tuning\n",
        "mentornet.eval()\n",
        "for param in mentornet.parameters():\n",
        "    param.requires_grad = False\n",
        "\n",
        "\n",
        "class Net(nn.Module):\n",
        "    def __init__(self):\n",
        "        super(Net, self).__init__()\n",
        "        self.conv1 = nn.Conv2d(3, 32, 3, padding=1)\n",
        "        self.conv2 = nn.Conv2d(32, 64, 3, padding=1)\n",
        "        self.conv3 = nn.Conv2d(64, 128, 3, padding=1)\n",
        "        self.pool = nn.MaxPool2d(2, 2)\n",
        "        self.fc1 = nn.Linear(128 * 4 * 4, 512)\n",
        "        self.fc2 = nn.Linear(512, 100)\n",
        "\n",
        "    def forward(self, x):\n",
        "        x = self.pool(nn.functional.relu(self.conv1(x)))\n",
        "        x = self.pool(nn.functional.relu(self.conv2(x)))\n",
        "        x = self.pool(nn.functional.relu(self.conv3(x)))\n",
        "        x = x.view(-1, 128 * 4 * 4)\n",
        "        x = nn.functional.relu(self.fc1(x))\n",
        "        x = self.fc2(x)\n",
        "        return x\n",
        "\n",
        "\n",
        "net = Net()\n",
        "\n",
        "\n",
        "criterion = nn.CrossEntropyLoss()\n",
        "\n",
        "\n",
        "optimizer = optim.SGD(net.parameters(), lr=0.01, momentum=0.9)\n",
        "\n",
        "# Training loop for the main model\n",
        "for epoch in range(10):\n",
        "    net.train()\n",
        "    running_loss = 0.0\n",
        "    for i, data in enumerate(trainloader, 0):\n",
        "        inputs, labels = data\n",
        "        optimizer.zero_grad()\n",
        "        outputs = net(inputs)\n",
        "\n",
        "        # Using MentorNet to regularize the training\n",
        "        with torch.no_grad():\n",
        "            mentor_outputs = mentornet(inputs)\n",
        "            regularizer_loss = nn.functional.kl_div(nn.functional.log_softmax(outputs, dim=1),\n",
        "                                                    nn.functional.softmax(mentor_outputs, dim=1), reduction='batchmean')\n",
        "\n",
        "        loss = criterion(outputs, labels) + regularizer_loss\n",
        "        loss.backward()\n",
        "        optimizer.step()\n",
        "        running_loss += loss.item()\n",
        "        train_loss = running_loss / len(trainloader)\n",
        "        train_loss_history.append(train_loss)\n",
        "    print(f\"Main Model Epoch {epoch + 1}, Loss: {running_loss / len(trainloader)}\")\n",
        "\n",
        "#  the main model\n",
        "net.eval()\n",
        "correct = 0\n",
        "total = 0\n",
        "with torch.no_grad():\n",
        "    for data in testloader:\n",
        "        inputs, labels = data\n",
        "        outputs = net(inputs)\n",
        "        _, predicted = torch.max(outputs, 1)\n",
        "        total += labels.size(0)\n",
        "        correct += (predicted == labels).sum().item()\n",
        "    test_accuracy = 100 * correct / total\n",
        "    test_accuracy_history.append(test_accuracy)\n",
        "print(f\"Accuracy on the test dataset: {100 * correct / total:.2f}%\")\n"
      ],
      "metadata": {
        "colab": {
          "base_uri": "https://localhost:8080/"
        },
        "id": "ukTaRTTUESYr",
        "outputId": "7b1540f0-3a78-4b04-e47a-8c9aeca0e284"
      },
      "execution_count": null,
      "outputs": [
        {
          "output_type": "stream",
          "name": "stdout",
          "text": [
            "MentorNet Epoch 1, Loss: 4.303628676382782\n",
            "MentorNet Epoch 2, Loss: 3.701382056831399\n",
            "MentorNet Epoch 3, Loss: 3.3297152845450984\n",
            "MentorNet Epoch 4, Loss: 3.0369825997316013\n",
            "MentorNet Epoch 5, Loss: 2.786003841158679\n",
            "MentorNet Epoch 6, Loss: 2.5515648715026544\n",
            "MentorNet Epoch 7, Loss: 2.3113792316078223\n",
            "MentorNet Epoch 8, Loss: 2.0631209967081503\n",
            "MentorNet Epoch 9, Loss: 1.7984884121381413\n",
            "MentorNet Epoch 10, Loss: 1.5032132689452842\n",
            "Main Model Epoch 1, Loss: 7.075976869334346\n",
            "Main Model Epoch 2, Loss: 5.896189776832795\n",
            "Main Model Epoch 3, Loss: 5.17989335035729\n",
            "Main Model Epoch 4, Loss: 4.657775200541367\n",
            "Main Model Epoch 5, Loss: 4.232229424254669\n",
            "Main Model Epoch 6, Loss: 3.8598444544140946\n",
            "Main Model Epoch 7, Loss: 3.53244053890638\n",
            "Main Model Epoch 8, Loss: 3.2483348556796607\n",
            "Main Model Epoch 9, Loss: 3.0068391049304584\n",
            "Main Model Epoch 10, Loss: 2.8480235585166365\n",
            "Accuracy on the test dataset: 31.84%\n"
          ]
        }
      ]
    },
    {
      "cell_type": "code",
      "source": [
        "import matplotlib.pyplot as plt\n",
        "\n",
        "\n",
        "\n",
        "plt.figure(figsize=(10, 5))\n",
        "plt.subplot(1, 2, 1)\n",
        "plt.plot(train_loss_history)\n",
        "plt.title(\"Training Loss\")\n",
        "plt.xlabel(\"Epoch\")\n",
        "plt.ylabel(\"Loss\")\n",
        "\n",
        "\n"
      ],
      "metadata": {
        "colab": {
          "base_uri": "https://localhost:8080/",
          "height": 504
        },
        "id": "0Yr6UMe0Ej2a",
        "outputId": "00bf3cc8-9f2b-425e-f198-711e65e34469"
      },
      "execution_count": null,
      "outputs": [
        {
          "output_type": "execute_result",
          "data": {
            "text/plain": [
              "Text(0, 0.5, 'Loss')"
            ]
          },
          "metadata": {},
          "execution_count": 15
        },
        {
          "output_type": "display_data",
          "data": {
            "text/plain": [
              "<Figure size 1000x500 with 1 Axes>"
            ],
            "image/png": "[encoded data removed]"
          },
          "metadata": {}
        }
      ]
    }
  ],
  "metadata": {
    "colab": {
      "provenance": []
    },
    "kernelspec": {
      "display_name": "Python 3",
      "name": "python3"
    },
    "language_info": {
      "name": "python"
    }
  },
  "nbformat": 4,
  "nbformat_minor": 0
}