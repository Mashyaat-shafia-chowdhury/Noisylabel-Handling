{
  "nbformat": 4,
  "nbformat_minor": 0,
  "metadata": {
    "colab": {
      "provenance": []
    },
    "kernelspec": {
      "name": "python3",
      "display_name": "Python 3"
    },
    "language_info": {
      "name": "python"
    }
  },
  "cells": [
    {
      "cell_type": "code",
      "execution_count": null,
      "metadata": {
        "colab": {
          "base_uri": "https://localhost:8080/"
        },
        "id": "ln62drx8JiUS",
        "outputId": "e267b673-e3af-4952-fb69-b97245abe401"
      },
      "outputs": [
        {
          "output_type": "stream",
          "name": "stdout",
          "text": [
            "Downloading https://www.cs.toronto.edu/~kriz/cifar-10-python.tar.gz to ./data/cifar-10-python.tar.gz\n"
          ]
        },
        {
          "output_type": "stream",
          "name": "stderr",
          "text": [
            "100%|██████████| 170498071/170498071 [00:01<00:00, 98266641.18it/s] \n"
          ]
        },
        {
          "output_type": "stream",
          "name": "stdout",
          "text": [
            "Extracting ./data/cifar-10-python.tar.gz to ./data\n",
            "Files already downloaded and verified\n"
          ]
        }
      ],
      "source": [
        "import torchvision\n",
        "import torchvision.transforms as transforms\n",
        "\n",
        "#  the data directory\n",
        "data_dir = './data'\n",
        "\n",
        "# a transform to preprocess the data\n",
        "transform = transforms.Compose([transforms.ToTensor(), transforms.Normalize((0.5, 0.5, 0.5), (0.5, 0.5, 0.5))])\n",
        "\n",
        "# the CIFAR-10 dataset if it doesn't exist\n",
        "trainset = torchvision.datasets.CIFAR10(root=data_dir, train=True, transform=transform, download=True)\n",
        "testset = torchvision.datasets.CIFAR10(root=data_dir, train=False, transform=transform, download=True)\n",
        "\n",
        "\n"
      ]
    },
    {
      "cell_type": "code",
      "source": [
        "import numpy as np\n",
        "\n",
        "noise_rate = 0.1\n",
        "\n",
        "for dataset in [trainset, testset]:\n",
        "    labels = dataset.targets\n",
        "    num_samples = len(labels)\n",
        "    num_corrupted_samples = int(noise_rate * num_samples)\n",
        "    corrupted_indices = np.random.choice(num_samples, num_corrupted_samples, replace=False)\n",
        "\n",
        "    for i in corrupted_indices:\n",
        "        new_label = np.random.randint(0, 10)  #  a random new label\n",
        "        while new_label == labels[i]:  # the new label is different\n",
        "            new_label = np.random.randint(0, 10)\n",
        "        labels[i] = new_label\n"
      ],
      "metadata": {
        "id": "GO1XLqpwJyF7"
      },
      "execution_count": null,
      "outputs": []
    },
    {
      "cell_type": "code",
      "source": [
        "import torch\n",
        "\n",
        "trainloader = torch.utils.data.DataLoader(trainset, batch_size=64, shuffle=True)\n",
        "testloader = torch.utils.data.DataLoader(testset, batch_size=64, shuffle=False)\n"
      ],
      "metadata": {
        "id": "PWaMBG5KJ1St"
      },
      "execution_count": null,
      "outputs": []
    },
    {
      "cell_type": "code",
      "source": [
        "import torch\n",
        "import torch.nn as nn\n",
        "import torch.optim as optim\n",
        "import torchvision\n",
        "import torchvision.transforms as transforms\n",
        "from torch.utils.data import DataLoader\n",
        "\n",
        "class Net(nn.Module):\n",
        "    def __init__(self):\n",
        "        super(Net, self).__init__()  # Add parentheses here\n",
        "        self.conv1 = nn.Conv2d(3, 32, 3, padding=1)\n",
        "        self.conv2 = nn.Conv2d(32, 64, 3, padding=1)\n",
        "        self.conv3 = nn.Conv2d(64, 128, 3, padding=1)\n",
        "        self.pool = nn.MaxPool2d(2, 2)\n",
        "        self.fc1 = nn.Linear(128 * 4 * 4, 512)\n",
        "        self.fc2 = nn.Linear(512, 10)\n",
        "\n",
        "    def forward(self, x):\n",
        "        x = self.pool(nn.functional.relu(self.conv1(x)))\n",
        "        x = self.pool(nn.functional.relu(self.conv2(x)))\n",
        "        x = self.pool(nn.functional.relu(self.conv3(x)))\n",
        "        x = x.view(-1, 128 * 4 * 4)\n",
        "        x = nn.functional.relu(self.fc1(x))\n",
        "        x = self.fc2(x)\n",
        "        return x\n",
        "\n",
        "\n",
        "#  a data loader for training and testing\n",
        "trainloader = DataLoader(trainset, batch_size=64, shuffle=True)\n",
        "testloader = DataLoader(testset, batch_size=64, shuffle=False)\n",
        "\n",
        "# Instantiate the model\n",
        "net = Net()\n",
        "\n",
        "# Define loss function and optimizer\n",
        "criterion = nn.CrossEntropyLoss()\n",
        "optimizer = optim.SGD(net.parameters(), lr=0.001, momentum=0.9)\n",
        "\n",
        "# Training loop\n",
        "for epoch in range(10):  # You can adjust the number of epochs\n",
        "    running_loss = 0.0\n",
        "    for i, data in enumerate(trainloader, 0):\n",
        "        inputs, labels = data\n",
        "        optimizer.zero_grad()\n",
        "        outputs = net(inputs)\n",
        "        loss = criterion(outputs, labels)\n",
        "        loss.backward()\n",
        "        optimizer.step()\n",
        "        running_loss += loss.item()\n",
        "\n",
        "    print(f\"Epoch {epoch + 1}, Loss: {running_loss / len(trainloader)}\")\n",
        "\n",
        "print(\"Finished Training\")\n",
        "\n",
        "# Evaluation on the test dataset\n",
        "correct = 0\n",
        "total = 0\n",
        "\n",
        "net.eval()\n",
        "\n",
        "with torch.no_grad():\n",
        "    for data in testloader:\n",
        "        inputs, labels = data\n",
        "        outputs = net(inputs)\n",
        "        _, predicted = torch.max(outputs.data, 1)\n",
        "        total += labels.size(0)\n",
        "        correct += (predicted == labels).sum().item()\n",
        "\n",
        "print(f\"Accuracy on the test dataset: {100 * correct / total:.2f}%\")\n"
      ],
      "metadata": {
        "colab": {
          "base_uri": "https://localhost:8080/"
        },
        "id": "4-vE2sQbJ5mi",
        "outputId": "cd6b111f-0ff4-4a58-ce1a-ee582160fdac"
      },
      "execution_count": null,
      "outputs": [
        {
          "output_type": "stream",
          "name": "stdout",
          "text": [
            "Epoch 1, Loss: 2.2677363791429173\n",
            "Epoch 2, Loss: 2.0115373308396403\n",
            "Epoch 3, Loss: 1.826540326828237\n",
            "Epoch 4, Loss: 1.7166160270381157\n",
            "Epoch 5, Loss: 1.6496102915090674\n",
            "Epoch 6, Loss: 1.5975754350957359\n",
            "Epoch 7, Loss: 1.551042206756904\n",
            "Epoch 8, Loss: 1.5078179188396619\n",
            "Epoch 9, Loss: 1.4660121569853\n",
            "Epoch 10, Loss: 1.423891769345764\n",
            "Finished Training\n",
            "Accuracy on the test dataset: 53.07%\n"
          ]
        }
      ]
    },
    {
      "cell_type": "code",
      "source": [
        "import torch\n",
        "import torch.nn as nn\n",
        "import torch.optim as optim\n",
        "from torch.utils.data import DataLoader\n",
        "from torchvision import datasets, transforms\n",
        "import numpy as np\n",
        "train_loss_history = []\n",
        "test_accuracy_history = []\n",
        "\n",
        "class MentorNet(nn.Module):\n",
        "    def __init__(self):\n",
        "        super(MentorNet, self).__init__()\n",
        "        self.conv1 = nn.Conv2d(3, 32, 3, padding=1)\n",
        "        self.conv2 = nn.Conv2d(32, 64, 3, padding=1)\n",
        "        self.conv3 = nn.Conv2d(64, 128, 3, padding=1)\n",
        "        self.pool = nn.MaxPool2d(2, 2)\n",
        "        self.fc1 = nn.Linear(128 * 4 * 4, 512)\n",
        "        self.fc2 = nn.Linear(512, 10)\n",
        "\n",
        "    def forward(self, x):\n",
        "        x = self.pool(nn.functional.relu(self.conv1(x)))\n",
        "        x = self.pool(nn.functional.relu(self.conv2(x)))\n",
        "        x = self.pool(nn.functional.relu(self.conv3(x)))\n",
        "        x = x.view(-1, 128 * 4 * 4)\n",
        "        x = nn.functional.relu(self.fc1(x))\n",
        "        x = self.fc2(x)\n",
        "        return x\n",
        "\n",
        "\n",
        "# Instantiate the MentorNet\n",
        "mentornet = MentorNet()\n",
        "\n",
        "# Define loss function for MentorNet\n",
        "mentornet_criterion = nn.CrossEntropyLoss()\n",
        "\n",
        "# Define optimizer for MentorNet\n",
        "mentornet_optimizer = optim.SGD(mentornet.parameters(), lr=0.01, momentum=0.9)\n",
        "\n",
        "# Training loop for MentorNet\n",
        "mentornet.train()\n",
        "for epoch in range(10):  # Train MentorNet for a few epochs\n",
        "    running_loss = 0.0\n",
        "    for i, data in enumerate(trainloader, 0):\n",
        "        inputs, labels = data\n",
        "        mentornet_optimizer.zero_grad()\n",
        "        outputs = mentornet(inputs)\n",
        "        loss = mentornet_criterion(outputs, labels)\n",
        "        loss.backward()\n",
        "        mentornet_optimizer.step()\n",
        "        running_loss += loss.item()\n",
        "    print(f\"MentorNet Epoch {epoch + 1}, Loss: {running_loss / len(trainloader)}\")\n",
        "\n",
        "# the MentorNet for fine-tuning\n",
        "mentornet.eval()\n",
        "for param in mentornet.parameters():\n",
        "    param.requires_grad = False\n",
        "\n",
        "\n",
        "class Net(nn.Module):\n",
        "    def __init__(self):\n",
        "        super(Net, self).__init__()\n",
        "        self.conv1 = nn.Conv2d(3, 32, 3, padding=1)\n",
        "        self.conv2 = nn.Conv2d(32, 64, 3, padding=1)\n",
        "        self.conv3 = nn.Conv2d(64, 128, 3, padding=1)\n",
        "        self.pool = nn.MaxPool2d(2, 2)\n",
        "        self.fc1 = nn.Linear(128 * 4 * 4, 512)\n",
        "        self.fc2 = nn.Linear(512, 10)\n",
        "\n",
        "    def forward(self, x):\n",
        "        x = self.pool(nn.functional.relu(self.conv1(x)))\n",
        "        x = self.pool(nn.functional.relu(self.conv2(x)))\n",
        "        x = self.pool(nn.functional.relu(self.conv3(x)))\n",
        "        x = x.view(-1, 128 * 4 * 4)\n",
        "        x = nn.functional.relu(self.fc1(x))\n",
        "        x = self.fc2(x)\n",
        "        return x\n",
        "\n",
        "\n",
        "# Instantiate the main model\n",
        "net = Net()\n",
        "\n",
        "# Define loss function for the main model\n",
        "criterion = nn.CrossEntropyLoss()\n",
        "\n",
        "# Define optimizer for the main model\n",
        "optimizer = optim.SGD(net.parameters(), lr=0.01, momentum=0.9)\n",
        "\n",
        "# Training loop for the main model\n",
        "for epoch in range(10):\n",
        "    net.train()\n",
        "    running_loss = 0.0\n",
        "    for i, data in enumerate(trainloader, 0):\n",
        "        inputs, labels = data\n",
        "        optimizer.zero_grad()\n",
        "        outputs = net(inputs)\n",
        "\n",
        "        # Using MentorNet to regularize the training\n",
        "        with torch.no_grad():\n",
        "            mentor_outputs = mentornet(inputs)\n",
        "            regularizer_loss = nn.functional.kl_div(nn.functional.log_softmax(outputs, dim=1),\n",
        "                                                    nn.functional.softmax(mentor_outputs, dim=1), reduction='batchmean')\n",
        "\n",
        "        loss = criterion(outputs, labels) + regularizer_loss\n",
        "        loss.backward()\n",
        "        optimizer.step()\n",
        "        running_loss += loss.item()\n",
        "        train_loss = running_loss / len(trainloader)\n",
        "        train_loss_history.append(train_loss)\n",
        "    print(f\"Main Model Epoch {epoch + 1}, Loss: {running_loss / len(trainloader)}\")\n",
        "\n",
        "# Evaluate the main model\n",
        "net.eval()\n",
        "correct = 0\n",
        "total = 0\n",
        "with torch.no_grad():\n",
        "    for data in testloader:\n",
        "        inputs, labels = data\n",
        "        outputs = net(inputs)\n",
        "        _, predicted = torch.max(outputs, 1)\n",
        "        total += labels.size(0)\n",
        "        correct += (predicted == labels).sum().item()\n",
        "    test_accuracy = 100 * correct / total\n",
        "    test_accuracy_history.append(test_accuracy)\n",
        "print(f\"Accuracy on the test dataset: {100 * correct / total:.2f}%\")\n"
      ],
      "metadata": {
        "colab": {
          "base_uri": "https://localhost:8080/"
        },
        "id": "eiZR1FAVQxyo",
        "outputId": "9ba405dd-fd5f-4f84-f45e-0481f739852d"
      },
      "execution_count": null,
      "outputs": [
        {
          "output_type": "stream",
          "name": "stdout",
          "text": [
            "MentorNet Epoch 1, Loss: 1.809030694577395\n",
            "MentorNet Epoch 2, Loss: 1.3761804860723599\n",
            "MentorNet Epoch 3, Loss: 1.1473420988720702\n",
            "MentorNet Epoch 4, Loss: 0.9954938681229301\n",
            "MentorNet Epoch 5, Loss: 0.8869718002236407\n",
            "MentorNet Epoch 6, Loss: 0.8098273214019472\n",
            "MentorNet Epoch 7, Loss: 0.7583589325551792\n",
            "MentorNet Epoch 8, Loss: 0.7109962046679938\n",
            "MentorNet Epoch 9, Loss: 0.6715272122331898\n",
            "MentorNet Epoch 10, Loss: 0.6361835056253712\n",
            "Main Model Epoch 1, Loss: 2.9703412876104758\n",
            "Main Model Epoch 2, Loss: 2.107454141082666\n",
            "Main Model Epoch 3, Loss: 1.705667868447121\n",
            "Main Model Epoch 4, Loss: 1.4298439666133402\n",
            "Main Model Epoch 5, Loss: 1.2650479021889474\n",
            "Main Model Epoch 6, Loss: 1.159488080864977\n",
            "Main Model Epoch 7, Loss: 1.0832839410780641\n",
            "Main Model Epoch 8, Loss: 1.031936168746875\n",
            "Main Model Epoch 9, Loss: 0.9975734115256678\n",
            "Main Model Epoch 10, Loss: 0.9658245881042822\n",
            "Accuracy on the test dataset: 79.28%\n"
          ]
        }
      ]
    },
    {
      "cell_type": "code",
      "source": [
        "import matplotlib.pyplot as plt\n",
        "\n",
        "\n",
        "\n",
        "plt.figure(figsize=(10, 5))\n",
        "plt.subplot(1, 2, 1)\n",
        "plt.plot(train_loss_history)\n",
        "plt.title(\"Training Loss\")\n",
        "plt.xlabel(\"Epoch\")\n",
        "plt.ylabel(\"Loss\")\n",
        "\n",
        "plt.subplot(1, 2, 2)\n",
        "plt.plot(test_accuracy_history)\n",
        "plt.title(\"Test Accuracy\")\n",
        "plt.xlabel(\"Epoch\")\n",
        "plt.ylabel(\"Accuracy\")\n",
        "\n",
        "plt.tight_layout()\n",
        "plt.show()\n"
      ],
      "metadata": {
        "colab": {
          "base_uri": "https://localhost:8080/",
          "height": 507
        },
        "id": "Hk-rsrhC43rW",
        "outputId": "349e39a9-eb19-40b8-a2cd-6939ccd2e1e2"
      },
      "execution_count": null,
      "outputs": [
        {
          "output_type": "display_data",
          "data": {
            "text/plain": [
              "<Figure size 1000x500 with 2 Axes>"
            ],
            "image/png": "[encoded data removed]"
          },
          "metadata": {}
        }
      ]
    }
  ]
}